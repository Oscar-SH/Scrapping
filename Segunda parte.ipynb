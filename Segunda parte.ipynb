{
 "cells": [
  {
   "cell_type": "markdown",
   "id": "12b0886b-ddb0-4816-b256-abb23f394a90",
   "metadata": {},
   "source": [
    "# Tarea Parte 2"
   ]
  },
  {
   "cell_type": "code",
   "execution_count": null,
   "id": "5ba7682b-5432-4da8-82b6-ad7996af9535",
   "metadata": {},
   "outputs": [],
   "source": [
    "import os\n",
    "\n",
    "import nltk\n",
    "from nltk.tokenize import sent_tokenize, word_tokenize\n",
    "from nltk.probability import FreqDist\n",
    "from nltk.corpus import stopwords\n",
    "from nltk.tag import StanfordPOSTagger\n",
    "\n",
    "from wordcloud import WordCloud\n",
    "\n",
    "import spacy\n",
    "from spacy import displacy\n",
    "import es_core_news_md\n",
    "\n",
    "from pymongo import MongoClient\n",
    "\n",
    "import matplotlib.pyplot as plt\n",
    "%matplotlib inline"
   ]
  },
  {
   "cell_type": "code",
   "execution_count": null,
   "id": "133f2f99-86ae-44a8-9951-1947280c965c",
   "metadata": {},
   "outputs": [],
   "source": [
    "jar = \"./pos-tagger/stanford-postagger/stanford-postagger-4.2.0.jar\"\n",
    "model = \"./pos-tagger/stanford-postagger/models/spanish-ud.tagger\"\n",
    "os.environ[\"JAVAHOME\"] = \"/usr/bin/java\""
   ]
  },
  {
   "cell_type": "code",
   "execution_count": null,
   "id": "7b2d7e6e-4d36-427a-a385-655233246a42",
   "metadata": {},
   "outputs": [],
   "source": [
    "nlp = es_core_news_md.load()"
   ]
  },
  {
   "cell_type": "code",
   "execution_count": null,
   "id": "20b6e08b-9193-4be1-a21e-cbfbce062548",
   "metadata": {},
   "outputs": [],
   "source": [
    "client = MongoClient(\"localhost\", 27017)\n",
    "db = client[\"tareaespectador\"]\n",
    "collectione = db[\"economia\"]\n",
    "collectioni = db[\"investigacion\"]\n",
    "collectionj = db[\"judicial\"]\n",
    "collectionp = db[\"politica\"]\n",
    "collectiont = db[\"tecnologia\"]"
   ]
  },
  {
   "cell_type": "code",
   "execution_count": null,
   "id": "41b7f6fc-9dd5-4187-a226-3ca0a8814530",
   "metadata": {},
   "outputs": [],
   "source": [
    "text = []\n",
    "for tareanews in list(collectione.find({}, {\"Categoria\": 1, \"Autor\": 1, \"Titulo\": 1, \"Texto\": 1, \"Fecha\": 1, \"_id\": 0})):\n",
    "    text.append(tareanews[\"Categoria\"])\n",
    "    text.append(tareanews[\"Autor\"])\n",
    "    text.append(tareanews[\"Titulo\"])\n",
    "    text.append(tareanews[\"Texto\"])\n",
    "    text.append(tareanews[\"Fecha\"])\n",
    "    \n",
    "texti = []\n",
    "for tareanews in list(collectioni.find({}, {\"Categoria\": 1, \"Autor\": 1, \"Titulo\": 1, \"Texto\": 1, \"Fecha\": 1, \"_id\": 0})):\n",
    "    texti.append(tareanews[\"Categoria\"])\n",
    "    texti.append(tareanews[\"Autor\"])\n",
    "    texti.append(tareanews[\"Titulo\"])\n",
    "    texti.append(tareanews[\"Texto\"])\n",
    "    texti.append(tareanews[\"Fecha\"])\n",
    "    \n",
    "textj = []\n",
    "for tareanews in list(collectionj.find({}, {\"Categoria\": 1,\"Autor\": 1, \"Titulo\": 1, \"Texto\": 1, \"Fecha\": 1, \"_id\": 0})):\n",
    "    textj.append(tareanews[\"Categoria\"])\n",
    "    textj.append(tareanews[\"Autor\"])\n",
    "    textj.append(tareanews[\"Titulo\"])\n",
    "    textj.append(tareanews[\"Texto\"])\n",
    "    textj.append(tareanews[\"Fecha\"])\n",
    "    \n",
    "textp = []\n",
    "for tareanews in list(collectionp.find({}, {\"Categoria\": 1,\"Autor\": 1, \"Titulo\": 1, \"Texto\": 1, \"Fecha\": 1, \"_id\": 0})):\n",
    "    textp.append(tareanews[\"Categoria\"])\n",
    "    textp.append(tareanews[\"Autor\"])\n",
    "    textp.append(tareanews[\"Titulo\"])\n",
    "    textp.append(tareanews[\"Texto\"])\n",
    "    textp.append(tareanews[\"Fecha\"])\n",
    "    \n",
    "textt = []\n",
    "for tareanews in list(collectiont.find({}, {\"Categoria\": 1,\"Autor\": 1, \"Titulo\": 1, \"Texto\": 1, \"Fecha\": 1, \"_id\": 0})):\n",
    "    textt.append(tareanews[\"Categoria\"])\n",
    "    textt.append(tareanews[\"Autor\"])\n",
    "    textt.append(tareanews[\"Titulo\"])\n",
    "    textt.append(tareanews[\"Texto\"])\n",
    "    textt.append(tareanews[\"Fecha\"])"
   ]
  },
  {
   "cell_type": "code",
   "execution_count": null,
   "id": "ebf0d51c-fbda-4451-a71b-ecd5c7f1a13a",
   "metadata": {},
   "outputs": [],
   "source": [
    "text = \" \".join(text)\n",
    "texti = \" \".join(texti)\n",
    "textj = \" \".join(textj)\n",
    "textp = \" \".join(textp)\n",
    "textt = \" \".join(textt)"
   ]
  },
  {
   "cell_type": "code",
   "execution_count": null,
   "id": "7581d6b4-defd-49c6-84a8-e2e895c69eeb",
   "metadata": {},
   "outputs": [],
   "source": [
    "words = word_tokenize(text)\n",
    "wordsi = word_tokenize(texti)\n",
    "wordsj = word_tokenize(textj)\n",
    "wordsp = word_tokenize(textp)\n",
    "wordst = word_tokenize(textt)"
   ]
  },
  {
   "cell_type": "code",
   "execution_count": null,
   "id": "e3af43ca-6fb7-4db6-be2a-3d9310a88244",
   "metadata": {},
   "outputs": [],
   "source": [
    "frec_dist = FreqDist(words)\n",
    "frec_disti = FreqDist(wordsi)\n",
    "frec_distj = FreqDist(wordsj)\n",
    "frec_distp = FreqDist(wordsp)\n",
    "frec_distt = FreqDist(wordst)"
   ]
  },
  {
   "cell_type": "code",
   "execution_count": null,
   "id": "2197fb0c-6a25-420a-b7de-af254aab698a",
   "metadata": {},
   "outputs": [],
   "source": [
    "stop_words = set(stopwords.words(\"spanish\"))\n",
    "stop_wordsi = set(stopwords.words(\"spanish\"))\n",
    "stop_wordsj = set(stopwords.words(\"spanish\"))\n",
    "stop_wordsp = set(stopwords.words(\"spanish\"))\n",
    "stop_wordst = set(stopwords.words(\"spanish\"))"
   ]
  },
  {
   "cell_type": "code",
   "execution_count": null,
   "id": "5a5af462-5927-4ae3-85d9-d4cfdc4e90bf",
   "metadata": {},
   "outputs": [],
   "source": [
    "filtered_words = []\n",
    "\n",
    "for w in words:\n",
    "    if w.lower() not in stop_words:\n",
    "        filtered_words.append(w)\n",
    "        \n",
    "filtered_wordsi = []\n",
    "\n",
    "for wi in wordsi:\n",
    "    if wi.lower() not in stop_wordsi:\n",
    "        filtered_wordsi.append(wi)\n",
    "        \n",
    "filtered_wordsj = []\n",
    "\n",
    "for wj in wordsj:\n",
    "    if wj.lower() not in stop_wordsj:\n",
    "        filtered_wordsj.append(wj)\n",
    "        \n",
    "filtered_wordsp = []\n",
    "\n",
    "for wp in wordsp:\n",
    "    if wp.lower() not in stop_wordsp:\n",
    "        filtered_wordsp.append(wp)\n",
    "        \n",
    "filtered_wordst = []\n",
    "\n",
    "for wt in wordst:\n",
    "    if wt.lower() not in stop_wordst:\n",
    "        filtered_wordst.append(wt)"
   ]
  },
  {
   "cell_type": "code",
   "execution_count": null,
   "id": "13de55ef-4092-4864-b47f-57df3d7ff1b8",
   "metadata": {},
   "outputs": [],
   "source": [
    "frec_dist_filtered = FreqDist(filtered_words)\n",
    "frec_dist_filteredi = FreqDist(filtered_wordsi)\n",
    "frec_dist_filteredj = FreqDist(filtered_wordsj)\n",
    "frec_dist_filteredp = FreqDist(filtered_wordsp)\n",
    "frec_dist_filteredt = FreqDist(filtered_wordst)"
   ]
  },
  {
   "cell_type": "code",
   "execution_count": null,
   "id": "87aef60e-fd06-4023-aea8-8297a28262e3",
   "metadata": {},
   "outputs": [],
   "source": [
    "#Economia\n",
    "text"
   ]
  },
  {
   "cell_type": "code",
   "execution_count": null,
   "id": "d3544008-96a8-4ef0-b20b-fd20d05dd1df",
   "metadata": {},
   "outputs": [],
   "source": [
    "frec_dist_filtered.most_common(10)"
   ]
  },
  {
   "cell_type": "code",
   "execution_count": null,
   "id": "668ac788-d5d4-447d-85c8-267fdad53514",
   "metadata": {},
   "outputs": [],
   "source": [
    "n = 10\n",
    "\n",
    "plt.figure(figsize = (15, 8))\n",
    "plt.barh([ w[0] for w in frec_dist_filtered.most_common(n) ], [ w[1] for w in frec_dist_filtered.most_common(n) ])\n",
    "plt.gca().invert_yaxis()"
   ]
  },
  {
   "cell_type": "code",
   "execution_count": null,
   "id": "8434dfc7-30f6-4a66-9c51-e8bbc3cecee4",
   "metadata": {},
   "outputs": [],
   "source": [
    "document = nlp(text)\n",
    "displacy.render(document, style = \"ent\")"
   ]
  },
  {
   "cell_type": "code",
   "execution_count": null,
   "id": "b4f7a8da-d9e1-4136-a8d9-cca2a467e72c",
   "metadata": {},
   "outputs": [],
   "source": [
    "#Investigacion\n",
    "texti"
   ]
  },
  {
   "cell_type": "code",
   "execution_count": null,
   "id": "cac00d9e-2e6c-4089-be47-b5478524b6c0",
   "metadata": {},
   "outputs": [],
   "source": [
    "frec_dist_filteredi.most_common(10)"
   ]
  },
  {
   "cell_type": "code",
   "execution_count": null,
   "id": "32f35a8e-cc71-43cc-8b9b-22f84f17a57c",
   "metadata": {},
   "outputs": [],
   "source": [
    "ni = 10\n",
    "\n",
    "plt.figure(figsize = (15, 8))\n",
    "plt.barh([ wi[0] for wi in frec_dist_filteredi.most_common(ni) ], [ wi[1] for wi in frec_dist_filteredi.most_common(ni) ])\n",
    "plt.gca().invert_yaxis()"
   ]
  },
  {
   "cell_type": "code",
   "execution_count": null,
   "id": "9f685a14-9dd2-4bfb-af9d-f757e47e17a2",
   "metadata": {},
   "outputs": [],
   "source": [
    "documenti = nlp(texti)\n",
    "displacy.render(documenti, style = \"ent\")"
   ]
  },
  {
   "cell_type": "code",
   "execution_count": null,
   "id": "9558bbb3-b34d-49ea-b330-9081312453bd",
   "metadata": {},
   "outputs": [],
   "source": [
    "#Judicial\n",
    "textj"
   ]
  },
  {
   "cell_type": "code",
   "execution_count": null,
   "id": "1cc4d431-aa8e-4060-83ce-8cfd598bebf9",
   "metadata": {},
   "outputs": [],
   "source": [
    "frec_dist_filteredj.most_common(10)"
   ]
  },
  {
   "cell_type": "code",
   "execution_count": null,
   "id": "3a14b43b-9473-4dde-8657-f103f0f032bf",
   "metadata": {},
   "outputs": [],
   "source": [
    "nj = 10\n",
    "\n",
    "plt.figure(figsize = (15, 8))\n",
    "plt.barh([ wj[0] for wj in frec_dist_filteredj.most_common(nj) ], [ wj[1] for wj in frec_dist_filteredj.most_common(nj) ])\n",
    "plt.gca().invert_yaxis()"
   ]
  },
  {
   "cell_type": "code",
   "execution_count": null,
   "id": "68620498-8ae5-4299-975d-3b2c2a60f02e",
   "metadata": {},
   "outputs": [],
   "source": [
    "documentj = nlp(textj)\n",
    "displacy.render(documentj, style = \"ent\")"
   ]
  },
  {
   "cell_type": "code",
   "execution_count": null,
   "id": "953ce585-afcd-455b-bd46-83e507ab8306",
   "metadata": {},
   "outputs": [],
   "source": [
    "#Politica\n",
    "textp"
   ]
  },
  {
   "cell_type": "code",
   "execution_count": null,
   "id": "e7ebc82c-63c2-4697-98ef-6e54a24a19be",
   "metadata": {},
   "outputs": [],
   "source": [
    "frec_dist_filteredp.most_common(10)"
   ]
  },
  {
   "cell_type": "code",
   "execution_count": null,
   "id": "7d25c462-b897-46bf-8bda-2bdf571d6a5e",
   "metadata": {},
   "outputs": [],
   "source": [
    "np = 10\n",
    "\n",
    "plt.figure(figsize = (15, 8))\n",
    "plt.barh([ wp[0] for wp in frec_dist_filteredp.most_common(np) ], [ wp[1] for wp in frec_dist_filteredp.most_common(np) ])\n",
    "plt.gca().invert_yaxis()"
   ]
  },
  {
   "cell_type": "code",
   "execution_count": null,
   "id": "666fe4d1-93fc-455c-8bb7-6653dd62ee75",
   "metadata": {},
   "outputs": [],
   "source": [
    "documentp = nlp(textp)\n",
    "displacy.render(documentp, style = \"ent\")"
   ]
  },
  {
   "cell_type": "code",
   "execution_count": null,
   "id": "9e9f00e2-f3dd-4654-9fec-c05e48153367",
   "metadata": {},
   "outputs": [],
   "source": [
    "#Tecnologia\n",
    "textt"
   ]
  },
  {
   "cell_type": "code",
   "execution_count": null,
   "id": "ed858ab2-f4a9-45db-bda0-70b0a72058ab",
   "metadata": {},
   "outputs": [],
   "source": [
    "frec_dist_filteredt.most_common(10)"
   ]
  },
  {
   "cell_type": "code",
   "execution_count": null,
   "id": "3d9b5dfc-7bd5-4fa9-bf45-acf77f5752c5",
   "metadata": {},
   "outputs": [],
   "source": [
    "nt = 10\n",
    "\n",
    "plt.figure(figsize = (15, 8))\n",
    "plt.barh([ wt[0] for wt in frec_dist_filteredt.most_common(nt) ], [ wt[1] for wt in frec_dist_filteredt.most_common(nt) ])\n",
    "plt.gca().invert_yaxis()"
   ]
  },
  {
   "cell_type": "code",
   "execution_count": null,
   "id": "23d0688d-bf5b-4517-834a-79cacb5a95f3",
   "metadata": {},
   "outputs": [],
   "source": [
    "documentt = nlp(textt)\n",
    "displacy.render(documentt, style = \"ent\")"
   ]
  }
 ],
 "metadata": {
  "kernelspec": {
   "display_name": "Python 3 (ipykernel)",
   "language": "python",
   "name": "python3"
  },
  "language_info": {
   "codemirror_mode": {
    "name": "ipython",
    "version": 3
   },
   "file_extension": ".py",
   "mimetype": "text/x-python",
   "name": "python",
   "nbconvert_exporter": "python",
   "pygments_lexer": "ipython3",
   "version": "3.10.2"
  }
 },
 "nbformat": 4,
 "nbformat_minor": 5
}
