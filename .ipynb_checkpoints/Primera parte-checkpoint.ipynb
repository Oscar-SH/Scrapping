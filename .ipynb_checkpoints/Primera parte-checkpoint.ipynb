{
 "cells": [
  {
   "cell_type": "markdown",
   "id": "69ded6a6-0fa0-4c62-892f-66c527dc52f5",
   "metadata": {},
   "source": [
    "# Tarea Parte 1"
   ]
  },
  {
   "cell_type": "code",
   "execution_count": null,
   "id": "5c7558c1-f1e3-427c-bfe2-a688e314635e",
   "metadata": {},
   "outputs": [],
   "source": [
    "import time\n",
    "import pandas as pd\n",
    "\n",
    "from bs4 import BeautifulSoup\n",
    "from selenium import webdriver\n",
    "from pymongo import MongoClient"
   ]
  },
  {
   "cell_type": "code",
   "execution_count": null,
   "id": "31eb15bf-d624-4ce4-a91e-5dfa9f0db3a8",
   "metadata": {},
   "outputs": [],
   "source": [
    "client = MongoClient('localhost', 27017)\n",
    "db = client['tareaespectador']\n",
    "collectionp = db['politica']\n",
    "collectionj = db['judicial']\n",
    "collectione = db['economia']\n",
    "collectioni = db['investigacion']\n",
    "collectiont = db['tecnologia']"
   ]
  },
  {
   "cell_type": "code",
   "execution_count": null,
   "id": "451ede55-11dd-4ab4-9eeb-70aca92dcf0f",
   "metadata": {},
   "outputs": [],
   "source": [
    "SITE_URL = 'https://www.elespectador.com'"
   ]
  },
  {
   "cell_type": "code",
   "execution_count": null,
   "id": "21d6927c-4cba-447b-96a0-e3a2ead772fa",
   "metadata": {},
   "outputs": [],
   "source": [
    "DRIVER_PATH = './geckodriver'"
   ]
  },
  {
   "cell_type": "code",
   "execution_count": null,
   "id": "f928e8cc-d9ab-497f-819d-14510acea1dc",
   "metadata": {},
   "outputs": [],
   "source": [
    "browser = webdriver.Firefox(executable_path = DRIVER_PATH)"
   ]
  },
  {
   "cell_type": "code",
   "execution_count": null,
   "id": "86ed72dd-4a8a-4f73-b87b-b64bc2bfd01e",
   "metadata": {},
   "outputs": [],
   "source": [
    "def make_request(browser, relative_path):\n",
    "    # Making the request and rendering the browser\n",
    "    browser.get(SITE_URL + relative_path)\n",
    "    \n",
    "    # Simulating vertical scrolling for handling lazy load\n",
    "    check_height = browser.execute_script('return document.body.scrollHeight;')\n",
    "    while True:\n",
    "        browser.execute_script('window.scrollTo(0, document.body.scrollHeight);')\n",
    "        time.sleep(3)\n",
    "        height = browser.execute_script('return document.body.scrollHeight;')\n",
    "        if height == check_height: \n",
    "            break \n",
    "        check_height = height\n",
    "    \n",
    "    # Getting HTML content and passing it to BeautifulSoup for scraping analysis\n",
    "    return BeautifulSoup(browser.page_source, 'html.parser')"
   ]
  },
  {
   "cell_type": "code",
   "execution_count": null,
   "id": "eae709fb-e3f8-4d05-842d-c1605a8b2e0f",
   "metadata": {},
   "outputs": [],
   "source": [
    "#Politica\n",
    "\n",
    "news = []\n",
    "url = '/archivo/politica'\n",
    "\n",
    "for n in range (1, 2):\n",
    "    soup = make_request(browser, url + str(n))\n",
    "    layout = soup.find(class_ = 'Layout-flexAds')\n",
    "    blocks = layout.find('section').find_all(recursive = False)\n",
    "    cards = blocks[0].find_all(class_ = 'Card')\n",
    "    for card in cards:\n",
    "        news.append({\n",
    "            'Categoria' : 'Politica',\n",
    "            'Titulo': card.find('h2', class_ = 'Card-Title').find('a').get_text(),\n",
    "            'Fecha' : card.find('div' ,class_ = 'Card-ContentFooter').find('p').get_text(),\n",
    "            'relative_path': card.find('h2', class_ = 'Card-Title').find('a')['href']\n",
    "        })"
   ]
  },
  {
   "cell_type": "code",
   "execution_count": null,
   "id": "4ea87f2b-5e4b-4fe9-ad01-e42aaa0bee34",
   "metadata": {},
   "outputs": [],
   "source": [
    "for i in news:\n",
    "    soup = make_request(browser, i['relative_path'])\n",
    "    i['Autor'] = soup.find(class_ = 'ACredit-Author').get_text()\n",
    "    paragraphs = soup.find_all(class_ = 'font--secondary')\n",
    "    i['Texto'] = ' '.join([p.get_text() for p in paragraphs])"
   ]
  },
  {
   "cell_type": "code",
   "execution_count": null,
   "id": "cddfd80d-ee50-4ae7-9a4c-12c9de6a4945",
   "metadata": {},
   "outputs": [],
   "source": [
    "news"
   ]
  },
  {
   "cell_type": "code",
   "execution_count": null,
   "id": "ed39f123-b584-4b18-96c3-54ee8aa8af2c",
   "metadata": {},
   "outputs": [],
   "source": [
    "#Judicial\n",
    "\n",
    "newsj = []\n",
    "url = '/archivo/judicial'\n",
    "\n",
    "for n in range (1, 2):\n",
    "    soup = make_request(browser, url + str(n))\n",
    "    layout = soup.find(class_ = 'Layout-flexAds')\n",
    "    blocks = layout.find('section').find_all(recursive = False)\n",
    "    cards = blocks[0].find_all(class_ = 'Card')\n",
    "    for card in cards:\n",
    "        newsj.append({\n",
    "            'Categoria' : 'Judicial',\n",
    "            'Titulo': card.find('h2', class_ = 'Card-Title').find('a').get_text(),\n",
    "            'Fecha' : card.find('div' ,class_ = 'Card-ContentFooter').find('p').get_text(),\n",
    "            'relative_path': card.find('h2', class_ = 'Card-Title').find('a')['href']\n",
    "        })"
   ]
  },
  {
   "cell_type": "code",
   "execution_count": null,
   "id": "46421190-fc81-43a0-b4c3-6fc9fcb4fedb",
   "metadata": {},
   "outputs": [],
   "source": [
    "for i in newsj:\n",
    "    soup = make_request(browser, i['relative_path'])\n",
    "    i['Autor'] = soup.find(class_ = 'ACredit-Author').get_text()\n",
    "    paragraphs = soup.find_all(class_ = 'font--secondary')\n",
    "    i['Texto'] = ' '.join([p.get_text() for p in paragraphs])"
   ]
  },
  {
   "cell_type": "code",
   "execution_count": null,
   "id": "b21ce097-e626-47b9-b226-58b6e5e088a4",
   "metadata": {},
   "outputs": [],
   "source": [
    "newsj"
   ]
  },
  {
   "cell_type": "code",
   "execution_count": null,
   "id": "54efd020-973a-4012-b91f-948860265e3a",
   "metadata": {},
   "outputs": [],
   "source": [
    "#Economia\n",
    "\n",
    "newse = []\n",
    "url = '/archivo/economia'\n",
    "\n",
    "for n in range (1, 3):\n",
    "    soup = make_request(browser, url + str(n))\n",
    "    layout = soup.find(class_ = 'Layout-flexAds')\n",
    "    blocks = layout.find('section').find_all(recursive = False)\n",
    "    cards = blocks[0].find_all(class_ = 'Card') + blocks[1].find_all(class_ = 'Card')\n",
    "    for card in cards:\n",
    "        newse.append({\n",
    "            'Categoria' : 'Economia',\n",
    "            'Titulo': card.find('h2', class_ = 'Card-Title').find('a').get_text(),\n",
    "            'Fecha' : card.find('div' ,class_ = 'Card-ContentFooter').find('p').get_text(),\n",
    "            'relative_path': card.find('h2', class_ = 'Card-Title').find('a')['href']\n",
    "        })"
   ]
  },
  {
   "cell_type": "code",
   "execution_count": null,
   "id": "5067481d-253b-4ec1-916f-c20f959a8324",
   "metadata": {},
   "outputs": [],
   "source": [
    "for i in newse:\n",
    "    soup = make_request(browser, i['relative_path'])\n",
    "    i['Autor'] = soup.find(class_ = 'ACredit-Author').get_text()\n",
    "    paragraphs = soup.find_all(class_ = 'font--secondary')\n",
    "    i['Texto'] = ' '.join([p.get_text() for p in paragraphs])"
   ]
  },
  {
   "cell_type": "code",
   "execution_count": null,
   "id": "1801dada-5b32-4c82-8ff4-bb89a7d436c4",
   "metadata": {},
   "outputs": [],
   "source": [
    "newse"
   ]
  },
  {
   "cell_type": "code",
   "execution_count": null,
   "id": "9919dcef-9501-4212-a1fb-ad5ea90ea19d",
   "metadata": {},
   "outputs": [],
   "source": [
    "#Investigacion\n",
    "\n",
    "newsi = []\n",
    "url = '/archivo/investigacion'\n",
    "\n",
    "for n in range (1, 3):\n",
    "    soup = make_request(browser, url + str(n))\n",
    "    layout = soup.find(class_ = 'Layout-flexAds')\n",
    "    blocks = layout.find('section').find_all(recursive = False)\n",
    "    cards = blocks[0].find_all(class_ = 'Card') + blocks[1].find_all(class_ = 'Card')\n",
    "    for card in cards:\n",
    "        newsi.append({\n",
    "            'Categoria' : 'Investigacion',\n",
    "            'Titulo': card.find('h2', class_ = 'Card-Title').find('a').get_text(),\n",
    "            'Fecha' : card.find('div' ,class_ = 'Card-ContentFooter').find('p').get_text(),\n",
    "            'relative_path': card.find('h2', class_ = 'Card-Title').find('a')['href']\n",
    "        })"
   ]
  },
  {
   "cell_type": "code",
   "execution_count": null,
   "id": "0e9c0ac1-b918-45d7-8947-6368d145e0a7",
   "metadata": {},
   "outputs": [],
   "source": [
    "for i in newsi:\n",
    "    soup = make_request(browser, i['relative_path'])\n",
    "    i['Autor'] = soup.find(class_ = 'ACredit-Author').get_text()\n",
    "    paragraphs = soup.find_all(class_ = 'font--secondary')\n",
    "    i['Texto'] = ' '.join([p.get_text() for p in paragraphs])"
   ]
  },
  {
   "cell_type": "code",
   "execution_count": null,
   "id": "ac43c036-de29-401b-8096-89ba6fcaa04c",
   "metadata": {},
   "outputs": [],
   "source": [
    "newsi"
   ]
  },
  {
   "cell_type": "code",
   "execution_count": null,
   "id": "249966d4-0642-41c3-9ac8-f1fb663a72da",
   "metadata": {},
   "outputs": [],
   "source": [
    "#Tecnologia\n",
    "\n",
    "newst = []\n",
    "url = '/archivo/tecnologia'\n",
    "\n",
    "for n in range (1, 3):\n",
    "    soup = make_request(browser, url + str(n))\n",
    "    layout = soup.find(class_ = 'Layout-flexAds')\n",
    "    blocks = layout.find('section').find_all(recursive = False)\n",
    "    cards = blocks[0].find_all(class_ = 'Card') + blocks[1].find_all(class_ = 'Card')\n",
    "    for card in cards:\n",
    "        newst.append({\n",
    "            'Categoria' : 'Politica',\n",
    "            'Titulo': card.find('h2', class_ = 'Card-Title').find('a').get_text(),\n",
    "            'Fecha' : card.find('div' ,class_ = 'Card-ContentFooter').find('p').get_text(),\n",
    "            'relative_path': card.find('h2', class_ = 'Card-Title').find('a')['href']\n",
    "        })"
   ]
  },
  {
   "cell_type": "code",
   "execution_count": null,
   "id": "81c1ecc4-53c7-4620-aac8-83081e4a2955",
   "metadata": {},
   "outputs": [],
   "source": [
    "for i in newst:\n",
    "    soup = make_request(browser, i['relative_path'])\n",
    "    i['Autor'] = soup.find(class_ = 'ACredit-Author').get_text()\n",
    "    paragraphs = soup.find_all(class_ = 'font--secondary')\n",
    "    i['Texto'] = ' '.join([p.get_text() for p in paragraphs])"
   ]
  },
  {
   "cell_type": "code",
   "execution_count": null,
   "id": "90c49401-5605-4363-8637-a572a214352e",
   "metadata": {},
   "outputs": [],
   "source": [
    "newst"
   ]
  },
  {
   "cell_type": "code",
   "execution_count": null,
   "id": "caeb8677-8728-4a93-a833-846be0c38922",
   "metadata": {},
   "outputs": [],
   "source": [
    "collectionp.insert_many(news)\n",
    "collectionj.insert_many(newsj)\n",
    "collectione.insert_many(newse)\n",
    "collectioni.insert_many(newsi)\n",
    "collectiont.insert_many(newst)"
   ]
  },
  {
   "cell_type": "code",
   "execution_count": null,
   "id": "cd7b9ffb-e59b-4eae-a574-9679b69acd25",
   "metadata": {},
   "outputs": [],
   "source": []
  }
 ],
 "metadata": {
  "kernelspec": {
   "display_name": "Python 3 (ipykernel)",
   "language": "python",
   "name": "python3"
  },
  "language_info": {
   "codemirror_mode": {
    "name": "ipython",
    "version": 3
   },
   "file_extension": ".py",
   "mimetype": "text/x-python",
   "name": "python",
   "nbconvert_exporter": "python",
   "pygments_lexer": "ipython3",
   "version": "3.10.2"
  }
 },
 "nbformat": 4,
 "nbformat_minor": 5
}
